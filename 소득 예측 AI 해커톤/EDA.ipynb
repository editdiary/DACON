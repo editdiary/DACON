{
 "cells": [
  {
   "cell_type": "markdown",
   "metadata": {},
   "source": [
    "# 0. 문제 정의"
   ]
  },
  {
   "cell_type": "markdown",
   "metadata": {},
   "source": [
    "### [ 배경 ]\n",
    "> 다양한 개인적 특성을 바탕으로 한 데이터를 활용하여 소득 수준을 예측하는 것을 목표로 한다.\n",
    ">\n",
    "> 제공된 개인 특성 데이터를 기반으로 한 알고리즘 개발을 통해 개인의 소득 수준을 예측함으로써 사회적 문제 해결에 기여할 수 있는 기회가 될 것이다.\n",
    ">\n",
    "> 또한, 단순히 개인 소득 수준을 에측하는 것을 넘어, 다양한 개인적 특성 데이터를 분석하고 이해하는 능력을 키우며, 이를 통해 AI 역량과 경험을 한 단계 더 발전시키는 것이다.\n",
    "\n",
    "### [ 주제 ]\n",
    "> 개인 특성 데이터를 활용하여 개인 소득 수준을 예측하는 AI 모델 개발\n",
    "\n",
    "### [ 규칙 ]\n",
    "> 1. 평가\n",
    "> - 평가산식: RMSE\n",
    "> - Public Score: 전체 테스트 데이터 중 30%\n",
    "> - Private Score: 전체 테스트 데이터 중 70%\n",
    ">\n",
    "> 2. 참여 규칙\n",
    "> - `개인으로만 참여 가능`\n",
    ">\n",
    "> 3. 외부 데이터 및 사전 학습 모델\n",
    "> - `외부 데이터 사용 불가`\n",
    "> - 사용에 법적 제한이 없으며 논문으로 공개된 베이스의 사전 학습 모델(Pre-trained Model) 사용 가능\n",
    ">\n",
    "> 4. AutoML 패키지\n",
    "> - `모든 AutoML 패키지 사용 불가능`\n",
    ">\n",
    "> 5. 유의 사항\n",
    "> - 1일 최대 제출 횟수: 3회\n",
    "> - `모델 학습에서 평가 데이터셋 활용(Data Leakage)시 수상 제외`"
   ]
  },
  {
   "cell_type": "markdown",
   "metadata": {},
   "source": [
    "# 1. 데이터 불러오기"
   ]
  },
  {
   "cell_type": "code",
   "execution_count": 1,
   "metadata": {},
   "outputs": [],
   "source": [
    "# 기초 라이브러리 import\n",
    "import pandas as pd\n",
    "import numpy as np\n",
    "import matplotlib.pyplot as plt\n",
    "import seaborn as sns"
   ]
  },
  {
   "cell_type": "code",
   "execution_count": 2,
   "metadata": {},
   "outputs": [
    {
     "name": "stdout",
     "output_type": "stream",
     "text": [
      "Data files:  ['sample_submission.csv', 'test.csv', 'train.csv']\n"
     ]
    }
   ],
   "source": [
    "# 데이터의 파일 경로 설정 및 파일 이름 확인\n",
    "import os\n",
    "\n",
    "path = os.getcwd() + '/data'\n",
    "data_files = os.listdir(path)\n",
    "print('Data files: ', data_files)"
   ]
  },
  {
   "cell_type": "code",
   "execution_count": 3,
   "metadata": {},
   "outputs": [
    {
     "data": {
      "text/plain": [
       "((20000, 23), (10000, 22))"
      ]
     },
     "execution_count": 3,
     "metadata": {},
     "output_type": "execute_result"
    }
   ],
   "source": [
    "train_origin = pd.read_csv(path+'/train.csv')  # train 데이터 불러오기\n",
    "test_origin = pd.read_csv(path+'/test.csv')    # test 데이터 불러오기\n",
    "train_origin.shape, test_origin.shape    # 데이터 정보 확인"
   ]
  },
  {
   "cell_type": "code",
   "execution_count": 4,
   "metadata": {},
   "outputs": [],
   "source": [
    "# EDA 및 전처리 handling을 위한 복사본 생성\n",
    "train = train_origin.copy()"
   ]
  },
  {
   "cell_type": "code",
   "execution_count": 5,
   "metadata": {},
   "outputs": [
    {
     "data": {
      "text/html": [
       "<div>\n",
       "<style scoped>\n",
       "    .dataframe tbody tr th:only-of-type {\n",
       "        vertical-align: middle;\n",
       "    }\n",
       "\n",
       "    .dataframe tbody tr th {\n",
       "        vertical-align: top;\n",
       "    }\n",
       "\n",
       "    .dataframe thead th {\n",
       "        text-align: right;\n",
       "    }\n",
       "</style>\n",
       "<table border=\"1\" class=\"dataframe\">\n",
       "  <thead>\n",
       "    <tr style=\"text-align: right;\">\n",
       "      <th></th>\n",
       "      <th>ID</th>\n",
       "      <th>Age</th>\n",
       "      <th>Gender</th>\n",
       "      <th>Education_Status</th>\n",
       "      <th>Employment_Status</th>\n",
       "      <th>Working_Week (Yearly)</th>\n",
       "      <th>Industry_Status</th>\n",
       "      <th>Occupation_Status</th>\n",
       "      <th>Race</th>\n",
       "      <th>Hispanic_Origin</th>\n",
       "      <th>...</th>\n",
       "      <th>Citizenship</th>\n",
       "      <th>Birth_Country</th>\n",
       "      <th>Birth_Country (Father)</th>\n",
       "      <th>Birth_Country (Mother)</th>\n",
       "      <th>Tax_Status</th>\n",
       "      <th>Gains</th>\n",
       "      <th>Losses</th>\n",
       "      <th>Dividends</th>\n",
       "      <th>Income_Status</th>\n",
       "      <th>Income</th>\n",
       "    </tr>\n",
       "  </thead>\n",
       "  <tbody>\n",
       "    <tr>\n",
       "      <th>0</th>\n",
       "      <td>TRAIN_00000</td>\n",
       "      <td>63</td>\n",
       "      <td>M</td>\n",
       "      <td>Middle (7-8)</td>\n",
       "      <td>Full-Time</td>\n",
       "      <td>4</td>\n",
       "      <td>Social Services</td>\n",
       "      <td>Services</td>\n",
       "      <td>White</td>\n",
       "      <td>All other</td>\n",
       "      <td>...</td>\n",
       "      <td>Native</td>\n",
       "      <td>US</td>\n",
       "      <td>US</td>\n",
       "      <td>US</td>\n",
       "      <td>Nonfiler</td>\n",
       "      <td>0</td>\n",
       "      <td>0</td>\n",
       "      <td>0</td>\n",
       "      <td>Unknown</td>\n",
       "      <td>425</td>\n",
       "    </tr>\n",
       "    <tr>\n",
       "      <th>1</th>\n",
       "      <td>TRAIN_00001</td>\n",
       "      <td>37</td>\n",
       "      <td>M</td>\n",
       "      <td>Associates degree (Vocational)</td>\n",
       "      <td>Full-Time</td>\n",
       "      <td>52</td>\n",
       "      <td>Entertainment</td>\n",
       "      <td>Services</td>\n",
       "      <td>White</td>\n",
       "      <td>All other</td>\n",
       "      <td>...</td>\n",
       "      <td>Native</td>\n",
       "      <td>US</td>\n",
       "      <td>US</td>\n",
       "      <td>US</td>\n",
       "      <td>Single</td>\n",
       "      <td>0</td>\n",
       "      <td>0</td>\n",
       "      <td>0</td>\n",
       "      <td>Under Median</td>\n",
       "      <td>0</td>\n",
       "    </tr>\n",
       "    <tr>\n",
       "      <th>2</th>\n",
       "      <td>TRAIN_00002</td>\n",
       "      <td>58</td>\n",
       "      <td>F</td>\n",
       "      <td>High graduate</td>\n",
       "      <td>Full-Time</td>\n",
       "      <td>52</td>\n",
       "      <td>Manufacturing (Non-durable)</td>\n",
       "      <td>Admin Support (include Clerical)</td>\n",
       "      <td>Black</td>\n",
       "      <td>All other</td>\n",
       "      <td>...</td>\n",
       "      <td>Native</td>\n",
       "      <td>US</td>\n",
       "      <td>US</td>\n",
       "      <td>US</td>\n",
       "      <td>Married Filling Jointly both under 65 (MFJ)</td>\n",
       "      <td>3411</td>\n",
       "      <td>0</td>\n",
       "      <td>0</td>\n",
       "      <td>Under Median</td>\n",
       "      <td>860</td>\n",
       "    </tr>\n",
       "    <tr>\n",
       "      <th>3</th>\n",
       "      <td>TRAIN_00003</td>\n",
       "      <td>44</td>\n",
       "      <td>M</td>\n",
       "      <td>High graduate</td>\n",
       "      <td>Full-Time</td>\n",
       "      <td>52</td>\n",
       "      <td>Retail</td>\n",
       "      <td>Technicians &amp; Support</td>\n",
       "      <td>White</td>\n",
       "      <td>All other</td>\n",
       "      <td>...</td>\n",
       "      <td>Native</td>\n",
       "      <td>US</td>\n",
       "      <td>US</td>\n",
       "      <td>US</td>\n",
       "      <td>Single</td>\n",
       "      <td>0</td>\n",
       "      <td>0</td>\n",
       "      <td>0</td>\n",
       "      <td>Under Median</td>\n",
       "      <td>850</td>\n",
       "    </tr>\n",
       "    <tr>\n",
       "      <th>4</th>\n",
       "      <td>TRAIN_00004</td>\n",
       "      <td>37</td>\n",
       "      <td>F</td>\n",
       "      <td>High graduate</td>\n",
       "      <td>Full-Time</td>\n",
       "      <td>52</td>\n",
       "      <td>Retail</td>\n",
       "      <td>Sales</td>\n",
       "      <td>White</td>\n",
       "      <td>All other</td>\n",
       "      <td>...</td>\n",
       "      <td>Native</td>\n",
       "      <td>US</td>\n",
       "      <td>US</td>\n",
       "      <td>US</td>\n",
       "      <td>Head of Household (HOH)</td>\n",
       "      <td>0</td>\n",
       "      <td>0</td>\n",
       "      <td>0</td>\n",
       "      <td>Unknown</td>\n",
       "      <td>570</td>\n",
       "    </tr>\n",
       "  </tbody>\n",
       "</table>\n",
       "<p>5 rows × 23 columns</p>\n",
       "</div>"
      ],
      "text/plain": [
       "            ID  Age Gender                Education_Status Employment_Status  \\\n",
       "0  TRAIN_00000   63      M                    Middle (7-8)         Full-Time   \n",
       "1  TRAIN_00001   37      M  Associates degree (Vocational)         Full-Time   \n",
       "2  TRAIN_00002   58      F                   High graduate         Full-Time   \n",
       "3  TRAIN_00003   44      M                   High graduate         Full-Time   \n",
       "4  TRAIN_00004   37      F                   High graduate         Full-Time   \n",
       "\n",
       "   Working_Week (Yearly)              Industry_Status  \\\n",
       "0                      4              Social Services   \n",
       "1                     52                Entertainment   \n",
       "2                     52  Manufacturing (Non-durable)   \n",
       "3                     52                       Retail   \n",
       "4                     52                       Retail   \n",
       "\n",
       "                  Occupation_Status   Race Hispanic_Origin  ... Citizenship  \\\n",
       "0                          Services  White       All other  ...      Native   \n",
       "1                          Services  White       All other  ...      Native   \n",
       "2  Admin Support (include Clerical)  Black       All other  ...      Native   \n",
       "3             Technicians & Support  White       All other  ...      Native   \n",
       "4                             Sales  White       All other  ...      Native   \n",
       "\n",
       "  Birth_Country Birth_Country (Father) Birth_Country (Mother)  \\\n",
       "0            US                     US                     US   \n",
       "1            US                     US                     US   \n",
       "2            US                     US                     US   \n",
       "3            US                     US                     US   \n",
       "4            US                     US                     US   \n",
       "\n",
       "                                    Tax_Status Gains Losses Dividends  \\\n",
       "0                                     Nonfiler     0      0         0   \n",
       "1                                       Single     0      0         0   \n",
       "2  Married Filling Jointly both under 65 (MFJ)  3411      0         0   \n",
       "3                                       Single     0      0         0   \n",
       "4                      Head of Household (HOH)     0      0         0   \n",
       "\n",
       "   Income_Status  Income  \n",
       "0        Unknown     425  \n",
       "1   Under Median       0  \n",
       "2   Under Median     860  \n",
       "3   Under Median     850  \n",
       "4        Unknown     570  \n",
       "\n",
       "[5 rows x 23 columns]"
      ]
     },
     "execution_count": 5,
     "metadata": {},
     "output_type": "execute_result"
    }
   ],
   "source": [
    "train.head(5)"
   ]
  },
  {
   "cell_type": "markdown",
   "metadata": {},
   "source": [
    "# 2. EDA & Preprocessing"
   ]
  },
  {
   "cell_type": "code",
   "execution_count": 6,
   "metadata": {},
   "outputs": [
    {
     "name": "stdout",
     "output_type": "stream",
     "text": [
      "<class 'pandas.core.frame.DataFrame'>\n",
      "RangeIndex: 20000 entries, 0 to 19999\n",
      "Data columns (total 23 columns):\n",
      " #   Column                  Non-Null Count  Dtype \n",
      "---  ------                  --------------  ----- \n",
      " 0   ID                      20000 non-null  object\n",
      " 1   Age                     20000 non-null  int64 \n",
      " 2   Gender                  20000 non-null  object\n",
      " 3   Education_Status        20000 non-null  object\n",
      " 4   Employment_Status       20000 non-null  object\n",
      " 5   Working_Week (Yearly)   20000 non-null  int64 \n",
      " 6   Industry_Status         20000 non-null  object\n",
      " 7   Occupation_Status       20000 non-null  object\n",
      " 8   Race                    20000 non-null  object\n",
      " 9   Hispanic_Origin         20000 non-null  object\n",
      " 10  Martial_Status          20000 non-null  object\n",
      " 11  Household_Status        20000 non-null  object\n",
      " 12  Household_Summary       20000 non-null  object\n",
      " 13  Citizenship             20000 non-null  object\n",
      " 14  Birth_Country           20000 non-null  object\n",
      " 15  Birth_Country (Father)  20000 non-null  object\n",
      " 16  Birth_Country (Mother)  20000 non-null  object\n",
      " 17  Tax_Status              20000 non-null  object\n",
      " 18  Gains                   20000 non-null  int64 \n",
      " 19  Losses                  20000 non-null  int64 \n",
      " 20  Dividends               20000 non-null  int64 \n",
      " 21  Income_Status           20000 non-null  object\n",
      " 22  Income                  20000 non-null  int64 \n",
      "dtypes: int64(6), object(17)\n",
      "memory usage: 3.5+ MB\n"
     ]
    }
   ],
   "source": [
    "train.info()    # 데이터 정보 확인"
   ]
  },
  {
   "cell_type": "markdown",
   "metadata": {},
   "source": [
    "> - 결측치가 하나도 없다..!\n",
    "> - object 변수가 많이 관측된다. -> `데이터의 특성을 비교하여 별도의 처리가 필요할 것으로 보인다`"
   ]
  },
  {
   "cell_type": "code",
   "execution_count": 7,
   "metadata": {},
   "outputs": [
    {
     "data": {
      "text/plain": [
       "Index(['ID', 'Age', 'Gender', 'Education_Status', 'Employment_Status',\n",
       "       'Working_Week (Yearly)', 'Industry_Status', 'Occupation_Status', 'Race',\n",
       "       'Hispanic_Origin', 'Martial_Status', 'Household_Status',\n",
       "       'Household_Summary', 'Citizenship', 'Birth_Country',\n",
       "       'Birth_Country (Father)', 'Birth_Country (Mother)', 'Tax_Status',\n",
       "       'Gains', 'Losses', 'Dividends', 'Income_Status', 'Income'],\n",
       "      dtype='object')"
      ]
     },
     "execution_count": 7,
     "metadata": {},
     "output_type": "execute_result"
    }
   ],
   "source": [
    "train.columns"
   ]
  },
  {
   "cell_type": "code",
   "execution_count": 8,
   "metadata": {},
   "outputs": [
    {
     "name": "stdout",
     "output_type": "stream",
     "text": [
      "Data Shape: (20000, 23)\n"
     ]
    },
    {
     "data": {
      "text/html": [
       "<div>\n",
       "<style scoped>\n",
       "    .dataframe tbody tr th:only-of-type {\n",
       "        vertical-align: middle;\n",
       "    }\n",
       "\n",
       "    .dataframe tbody tr th {\n",
       "        vertical-align: top;\n",
       "    }\n",
       "\n",
       "    .dataframe thead th {\n",
       "        text-align: right;\n",
       "    }\n",
       "</style>\n",
       "<table border=\"1\" class=\"dataframe\">\n",
       "  <thead>\n",
       "    <tr style=\"text-align: right;\">\n",
       "      <th></th>\n",
       "      <th>Feature</th>\n",
       "      <th>dtypes</th>\n",
       "      <th>Missing</th>\n",
       "      <th>Uniques</th>\n",
       "      <th>First Value</th>\n",
       "      <th>Second Value</th>\n",
       "    </tr>\n",
       "  </thead>\n",
       "  <tbody>\n",
       "    <tr>\n",
       "      <th>0</th>\n",
       "      <td>ID</td>\n",
       "      <td>object</td>\n",
       "      <td>0</td>\n",
       "      <td>20000</td>\n",
       "      <td>TRAIN_00000</td>\n",
       "      <td>TRAIN_00001</td>\n",
       "    </tr>\n",
       "    <tr>\n",
       "      <th>1</th>\n",
       "      <td>Age</td>\n",
       "      <td>int64</td>\n",
       "      <td>0</td>\n",
       "      <td>91</td>\n",
       "      <td>63</td>\n",
       "      <td>37</td>\n",
       "    </tr>\n",
       "    <tr>\n",
       "      <th>2</th>\n",
       "      <td>Gender</td>\n",
       "      <td>object</td>\n",
       "      <td>0</td>\n",
       "      <td>2</td>\n",
       "      <td>M</td>\n",
       "      <td>M</td>\n",
       "    </tr>\n",
       "    <tr>\n",
       "      <th>3</th>\n",
       "      <td>Education_Status</td>\n",
       "      <td>object</td>\n",
       "      <td>0</td>\n",
       "      <td>17</td>\n",
       "      <td>Middle (7-8)</td>\n",
       "      <td>Associates degree (Vocational)</td>\n",
       "    </tr>\n",
       "    <tr>\n",
       "      <th>4</th>\n",
       "      <td>Employment_Status</td>\n",
       "      <td>object</td>\n",
       "      <td>0</td>\n",
       "      <td>8</td>\n",
       "      <td>Full-Time</td>\n",
       "      <td>Full-Time</td>\n",
       "    </tr>\n",
       "    <tr>\n",
       "      <th>5</th>\n",
       "      <td>Working_Week (Yearly)</td>\n",
       "      <td>int64</td>\n",
       "      <td>0</td>\n",
       "      <td>53</td>\n",
       "      <td>4</td>\n",
       "      <td>52</td>\n",
       "    </tr>\n",
       "    <tr>\n",
       "      <th>6</th>\n",
       "      <td>Industry_Status</td>\n",
       "      <td>object</td>\n",
       "      <td>0</td>\n",
       "      <td>24</td>\n",
       "      <td>Social Services</td>\n",
       "      <td>Entertainment</td>\n",
       "    </tr>\n",
       "    <tr>\n",
       "      <th>7</th>\n",
       "      <td>Occupation_Status</td>\n",
       "      <td>object</td>\n",
       "      <td>0</td>\n",
       "      <td>15</td>\n",
       "      <td>Services</td>\n",
       "      <td>Services</td>\n",
       "    </tr>\n",
       "    <tr>\n",
       "      <th>8</th>\n",
       "      <td>Race</td>\n",
       "      <td>object</td>\n",
       "      <td>0</td>\n",
       "      <td>5</td>\n",
       "      <td>White</td>\n",
       "      <td>White</td>\n",
       "    </tr>\n",
       "    <tr>\n",
       "      <th>9</th>\n",
       "      <td>Hispanic_Origin</td>\n",
       "      <td>object</td>\n",
       "      <td>0</td>\n",
       "      <td>10</td>\n",
       "      <td>All other</td>\n",
       "      <td>All other</td>\n",
       "    </tr>\n",
       "    <tr>\n",
       "      <th>10</th>\n",
       "      <td>Martial_Status</td>\n",
       "      <td>object</td>\n",
       "      <td>0</td>\n",
       "      <td>7</td>\n",
       "      <td>Married</td>\n",
       "      <td>Separated</td>\n",
       "    </tr>\n",
       "    <tr>\n",
       "      <th>11</th>\n",
       "      <td>Household_Status</td>\n",
       "      <td>object</td>\n",
       "      <td>0</td>\n",
       "      <td>31</td>\n",
       "      <td>Householder</td>\n",
       "      <td>Nonfamily householder</td>\n",
       "    </tr>\n",
       "    <tr>\n",
       "      <th>12</th>\n",
       "      <td>Household_Summary</td>\n",
       "      <td>object</td>\n",
       "      <td>0</td>\n",
       "      <td>8</td>\n",
       "      <td>Householder</td>\n",
       "      <td>Householder</td>\n",
       "    </tr>\n",
       "    <tr>\n",
       "      <th>13</th>\n",
       "      <td>Citizenship</td>\n",
       "      <td>object</td>\n",
       "      <td>0</td>\n",
       "      <td>5</td>\n",
       "      <td>Native</td>\n",
       "      <td>Native</td>\n",
       "    </tr>\n",
       "    <tr>\n",
       "      <th>14</th>\n",
       "      <td>Birth_Country</td>\n",
       "      <td>object</td>\n",
       "      <td>0</td>\n",
       "      <td>43</td>\n",
       "      <td>US</td>\n",
       "      <td>US</td>\n",
       "    </tr>\n",
       "    <tr>\n",
       "      <th>15</th>\n",
       "      <td>Birth_Country (Father)</td>\n",
       "      <td>object</td>\n",
       "      <td>0</td>\n",
       "      <td>43</td>\n",
       "      <td>US</td>\n",
       "      <td>US</td>\n",
       "    </tr>\n",
       "    <tr>\n",
       "      <th>16</th>\n",
       "      <td>Birth_Country (Mother)</td>\n",
       "      <td>object</td>\n",
       "      <td>0</td>\n",
       "      <td>43</td>\n",
       "      <td>US</td>\n",
       "      <td>US</td>\n",
       "    </tr>\n",
       "    <tr>\n",
       "      <th>17</th>\n",
       "      <td>Tax_Status</td>\n",
       "      <td>object</td>\n",
       "      <td>0</td>\n",
       "      <td>6</td>\n",
       "      <td>Nonfiler</td>\n",
       "      <td>Single</td>\n",
       "    </tr>\n",
       "    <tr>\n",
       "      <th>18</th>\n",
       "      <td>Gains</td>\n",
       "      <td>int64</td>\n",
       "      <td>0</td>\n",
       "      <td>106</td>\n",
       "      <td>0</td>\n",
       "      <td>0</td>\n",
       "    </tr>\n",
       "    <tr>\n",
       "      <th>19</th>\n",
       "      <td>Losses</td>\n",
       "      <td>int64</td>\n",
       "      <td>0</td>\n",
       "      <td>86</td>\n",
       "      <td>0</td>\n",
       "      <td>0</td>\n",
       "    </tr>\n",
       "    <tr>\n",
       "      <th>20</th>\n",
       "      <td>Dividends</td>\n",
       "      <td>int64</td>\n",
       "      <td>0</td>\n",
       "      <td>420</td>\n",
       "      <td>0</td>\n",
       "      <td>0</td>\n",
       "    </tr>\n",
       "    <tr>\n",
       "      <th>21</th>\n",
       "      <td>Income_Status</td>\n",
       "      <td>object</td>\n",
       "      <td>0</td>\n",
       "      <td>3</td>\n",
       "      <td>Unknown</td>\n",
       "      <td>Under Median</td>\n",
       "    </tr>\n",
       "    <tr>\n",
       "      <th>22</th>\n",
       "      <td>Income</td>\n",
       "      <td>int64</td>\n",
       "      <td>0</td>\n",
       "      <td>1228</td>\n",
       "      <td>425</td>\n",
       "      <td>0</td>\n",
       "    </tr>\n",
       "  </tbody>\n",
       "</table>\n",
       "</div>"
      ],
      "text/plain": [
       "                   Feature  dtypes  Missing  Uniques      First Value  \\\n",
       "0                       ID  object        0    20000      TRAIN_00000   \n",
       "1                      Age   int64        0       91               63   \n",
       "2                   Gender  object        0        2                M   \n",
       "3         Education_Status  object        0       17     Middle (7-8)   \n",
       "4        Employment_Status  object        0        8        Full-Time   \n",
       "5    Working_Week (Yearly)   int64        0       53                4   \n",
       "6          Industry_Status  object        0       24  Social Services   \n",
       "7        Occupation_Status  object        0       15         Services   \n",
       "8                     Race  object        0        5            White   \n",
       "9          Hispanic_Origin  object        0       10        All other   \n",
       "10          Martial_Status  object        0        7          Married   \n",
       "11        Household_Status  object        0       31      Householder   \n",
       "12       Household_Summary  object        0        8      Householder   \n",
       "13             Citizenship  object        0        5           Native   \n",
       "14           Birth_Country  object        0       43               US   \n",
       "15  Birth_Country (Father)  object        0       43               US   \n",
       "16  Birth_Country (Mother)  object        0       43               US   \n",
       "17              Tax_Status  object        0        6         Nonfiler   \n",
       "18                   Gains   int64        0      106                0   \n",
       "19                  Losses   int64        0       86                0   \n",
       "20               Dividends   int64        0      420                0   \n",
       "21           Income_Status  object        0        3          Unknown   \n",
       "22                  Income   int64        0     1228              425   \n",
       "\n",
       "                      Second Value  \n",
       "0                      TRAIN_00001  \n",
       "1                               37  \n",
       "2                                M  \n",
       "3   Associates degree (Vocational)  \n",
       "4                        Full-Time  \n",
       "5                               52  \n",
       "6                    Entertainment  \n",
       "7                         Services  \n",
       "8                            White  \n",
       "9                        All other  \n",
       "10                       Separated  \n",
       "11           Nonfamily householder  \n",
       "12                     Householder  \n",
       "13                          Native  \n",
       "14                              US  \n",
       "15                              US  \n",
       "16                              US  \n",
       "17                          Single  \n",
       "18                               0  \n",
       "19                               0  \n",
       "20                               0  \n",
       "21                    Under Median  \n",
       "22                               0  "
      ]
     },
     "execution_count": 8,
     "metadata": {},
     "output_type": "execute_result"
    }
   ],
   "source": [
    "# 데이터 요약 정보 확인 함수 정의\n",
    "def resumetable(df):\n",
    "    print(f'Data Shape: {df.shape}')\n",
    "    summary = pd.DataFrame(df.dtypes, columns=['dtypes'])\n",
    "    summary = summary.reset_index()\n",
    "    summary = summary.rename(columns={'index': 'Feature'})\n",
    "    summary['Missing'] = df.isnull().sum().values\n",
    "    summary['Uniques'] = df.nunique().values\n",
    "    summary['First Value'] = df.iloc[0].values\n",
    "    summary['Second Value'] = df.iloc[1].values\n",
    "\n",
    "    return summary\n",
    "\n",
    "resumetable(train)"
   ]
  },
  {
   "cell_type": "markdown",
   "metadata": {},
   "source": [
    "> 각각의 변수에 대한 특징을 살펴본 결과 우선은 ID를 제외한 나머지 feaeture는 모두 사용해야 할 것으로 보인다."
   ]
  },
  {
   "cell_type": "markdown",
   "metadata": {},
   "source": [
    "> 먼저 수치형 데이터인 Age, Gains, Losses, Dividends, Income에 대한 시각화를 진행해보자."
   ]
  },
  {
   "cell_type": "code",
   "execution_count": 9,
   "metadata": {},
   "outputs": [
    {
     "data": {
      "image/png": "[encoded data removed]",
      "text/plain": [
       "<Figure size 800x500 with 4 Axes>"
      ]
     },
     "metadata": {},
     "output_type": "display_data"
    }
   ],
   "source": [
    "# Age와 Gains, Losses, Dividends의 박스플롯 2x2 subplot 형태로 시각화\n",
    "plt.figure(figsize=(8, 5))\n",
    "\n",
    "plt.subplot(2, 2, 1)\n",
    "sns.boxplot(y='Age', data=train)\n",
    "plt.title('Age Boxplot')\n",
    "\n",
    "plt.subplot(2, 2, 2)\n",
    "sns.boxplot(y='Gains', data=train)\n",
    "plt.title('Gains Boxplot')\n",
    "\n",
    "plt.subplot(2, 2, 3)\n",
    "sns.boxplot(y='Losses', data=train)\n",
    "plt.title('Losses Boxplot')\n",
    "\n",
    "plt.subplot(2, 2, 4)\n",
    "sns.boxplot(y='Dividends', data=train)\n",
    "plt.title('Dividends Boxplot')\n",
    "\n",
    "plt.show()"
   ]
  },
  {
   "cell_type": "code",
   "execution_count": 10,
   "metadata": {},
   "outputs": [
    {
     "data": {
      "image/png": "[encoded data removed]",
      "text/plain": [
       "<Figure size 1200x800 with 4 Axes>"
      ]
     },
     "metadata": {},
     "output_type": "display_data"
    }
   ],
   "source": [
    "# Age와 Gains, Losses, Dividends의 히스토그램 2x2 subplot 형태로 시각화\n",
    "plt.figure(figsize=(12, 8))\n",
    "\n",
    "plt.subplot(2, 2, 1)\n",
    "sns.histplot(train['Age'])\n",
    "\n",
    "plt.subplot(2, 2, 2)\n",
    "sns.histplot(train['Gains'])\n",
    "\n",
    "plt.subplot(2, 2, 3)\n",
    "sns.histplot(train['Losses'])\n",
    "\n",
    "plt.subplot(2, 2, 4)\n",
    "sns.histplot(train['Dividends'])\n",
    "\n",
    "plt.show()"
   ]
  },
  {
   "cell_type": "markdown",
   "metadata": {},
   "source": [
    "> Age를 제외한 feature의 경우 이상치가 압도적으로 많으며, 대부분은 0에 해당하는 값임을 알 수 있다."
   ]
  },
  {
   "cell_type": "code",
   "execution_count": 11,
   "metadata": {},
   "outputs": [
    {
     "data": {
      "image/png": "[encoded data removed]",
      "text/plain": [
       "<Figure size 1200x400 with 2 Axes>"
      ]
     },
     "metadata": {},
     "output_type": "display_data"
    }
   ],
   "source": [
    "# Income 시각화\n",
    "plt.figure(figsize=(12, 4))\n",
    "\n",
    "plt.subplot(1, 2, 1)\n",
    "sns.histplot(train['Income'])\n",
    "plt.title('Income Histogram')\n",
    "\n",
    "plt.subplot(1, 2, 2)\n",
    "sns.boxplot(y='Income', data=train)\n",
    "plt.title('Income Boxplot')\n",
    "\n",
    "plt.show()"
   ]
  },
  {
   "cell_type": "markdown",
   "metadata": {},
   "source": [
    "> Income의 경우에도 분포가 굉장히 불균형하다는 점을 있음을 알 수 있으며, 0인 경우가 많이 관측된다.\n",
    ">\n",
    "> 소득이 0인 집단과 0이 아닌 집단으로 나누어 분석을 진행하는 편이 나을 것으로 추측된다."
   ]
  },
  {
   "cell_type": "code",
   "execution_count": 36,
   "metadata": {},
   "outputs": [
    {
     "data": {
      "image/png": "[encoded data removed]",
      "text/plain": [
       "<Figure size 1200x400 with 2 Axes>"
      ]
     },
     "metadata": {},
     "output_type": "display_data"
    }
   ],
   "source": [
    "# Income을 로그 변환하여 시각화\n",
    "plt.figure(figsize=(12, 4))\n",
    "\n",
    "plt.subplot(1, 2, 1)\n",
    "sns.histplot(np.log1p(train['Income']))\n",
    "plt.title('Income Log Histogram')\n",
    "\n",
    "plt.subplot(1, 2, 2)\n",
    "sns.boxplot(y=np.log1p(train['Income']))\n",
    "plt.title('Income Log Boxplot')\n",
    "\n",
    "plt.show()"
   ]
  },
  {
   "cell_type": "code",
   "execution_count": 29,
   "metadata": {},
   "outputs": [
    {
     "data": {
      "text/plain": [
       "Index(['ID', 'Age', 'Gender', 'Education_Status', 'Employment_Status',\n",
       "       'Working_Week (Yearly)', 'Industry_Status', 'Occupation_Status', 'Race',\n",
       "       'Hispanic_Origin', 'Martial_Status', 'Household_Status',\n",
       "       'Household_Summary', 'Citizenship', 'Birth_Country',\n",
       "       'Birth_Country (Father)', 'Birth_Country (Mother)', 'Tax_Status',\n",
       "       'Gains', 'Losses', 'Dividends', 'Income_Status', 'Income'],\n",
       "      dtype='object')"
      ]
     },
     "execution_count": 29,
     "metadata": {},
     "output_type": "execute_result"
    }
   ],
   "source": [
    "train.columns"
   ]
  },
  {
   "cell_type": "code",
   "execution_count": 30,
   "metadata": {},
   "outputs": [
    {
     "data": {
      "image/png": "[encoded data removed]",
      "text/plain": [
       "<Figure size 1200x400 with 1 Axes>"
      ]
     },
     "metadata": {},
     "output_type": "display_data"
    }
   ],
   "source": [
    "# Household Status와 Household Summary 시각화\n",
    "plt.figure(figsize=(12, 4))\n",
    "\n",
    "sns.barplot(x='Household_Status', y='Income', data=train)\n",
    "plt.title('Household Status Countplot')\n",
    "plt.show()"
   ]
  },
  {
   "cell_type": "code",
   "execution_count": 31,
   "metadata": {},
   "outputs": [
    {
     "data": {
      "image/png": "[encoded data removed]",
      "text/plain": [
       "<Figure size 1200x400 with 1 Axes>"
      ]
     },
     "metadata": {},
     "output_type": "display_data"
    }
   ],
   "source": [
    "# Household Status와 Household Summary 시각화\n",
    "plt.figure(figsize=(12, 4))\n",
    "\n",
    "sns.barplot(x='Household_Summary', y='Income', data=train)\n",
    "plt.title('Household Status Countplot')\n",
    "plt.show()"
   ]
  },
  {
   "cell_type": "code",
   "execution_count": 25,
   "metadata": {},
   "outputs": [
    {
     "data": {
      "text/html": [
       "<div>\n",
       "<style scoped>\n",
       "    .dataframe tbody tr th:only-of-type {\n",
       "        vertical-align: middle;\n",
       "    }\n",
       "\n",
       "    .dataframe tbody tr th {\n",
       "        vertical-align: top;\n",
       "    }\n",
       "\n",
       "    .dataframe thead th {\n",
       "        text-align: right;\n",
       "    }\n",
       "</style>\n",
       "<table border=\"1\" class=\"dataframe\">\n",
       "  <thead>\n",
       "    <tr style=\"text-align: right;\">\n",
       "      <th></th>\n",
       "      <th>Age</th>\n",
       "      <th>Gains</th>\n",
       "      <th>Losses</th>\n",
       "      <th>Dividends</th>\n",
       "      <th>Income</th>\n",
       "    </tr>\n",
       "  </thead>\n",
       "  <tbody>\n",
       "    <tr>\n",
       "      <th>Age</th>\n",
       "      <td>1.000000</td>\n",
       "      <td>0.044156</td>\n",
       "      <td>0.053384</td>\n",
       "      <td>0.107565</td>\n",
       "      <td>0.124795</td>\n",
       "    </tr>\n",
       "    <tr>\n",
       "      <th>Gains</th>\n",
       "      <td>0.044156</td>\n",
       "      <td>1.000000</td>\n",
       "      <td>-0.013313</td>\n",
       "      <td>0.081115</td>\n",
       "      <td>0.009555</td>\n",
       "    </tr>\n",
       "    <tr>\n",
       "      <th>Losses</th>\n",
       "      <td>0.053384</td>\n",
       "      <td>-0.013313</td>\n",
       "      <td>1.000000</td>\n",
       "      <td>0.015351</td>\n",
       "      <td>0.036502</td>\n",
       "    </tr>\n",
       "    <tr>\n",
       "      <th>Dividends</th>\n",
       "      <td>0.107565</td>\n",
       "      <td>0.081115</td>\n",
       "      <td>0.015351</td>\n",
       "      <td>1.000000</td>\n",
       "      <td>0.002449</td>\n",
       "    </tr>\n",
       "    <tr>\n",
       "      <th>Income</th>\n",
       "      <td>0.124795</td>\n",
       "      <td>0.009555</td>\n",
       "      <td>0.036502</td>\n",
       "      <td>0.002449</td>\n",
       "      <td>1.000000</td>\n",
       "    </tr>\n",
       "  </tbody>\n",
       "</table>\n",
       "</div>"
      ],
      "text/plain": [
       "                Age     Gains    Losses  Dividends    Income\n",
       "Age        1.000000  0.044156  0.053384   0.107565  0.124795\n",
       "Gains      0.044156  1.000000 -0.013313   0.081115  0.009555\n",
       "Losses     0.053384 -0.013313  1.000000   0.015351  0.036502\n",
       "Dividends  0.107565  0.081115  0.015351   1.000000  0.002449\n",
       "Income     0.124795  0.009555  0.036502   0.002449  1.000000"
      ]
     },
     "execution_count": 25,
     "metadata": {},
     "output_type": "execute_result"
    }
   ],
   "source": [
    "# 수치형 데이터와 Income 간의 상관관계 파악\n",
    "train[['Age', 'Gains', 'Losses', 'Dividends', 'Income']].corr()"
   ]
  },
  {
   "cell_type": "code",
   "execution_count": 13,
   "metadata": {},
   "outputs": [],
   "source": [
    "# Income에 따른 특징을 살펴보기 위해 데이터 분할\n",
    "zero_income = train[train['Income'] == 0]\n",
    "non_zero_income = train[train['Income'] != 0]"
   ]
  },
  {
   "cell_type": "code",
   "execution_count": 14,
   "metadata": {},
   "outputs": [
    {
     "data": {
      "text/plain": [
       "((8697, 23), (11303, 23))"
      ]
     },
     "execution_count": 14,
     "metadata": {},
     "output_type": "execute_result"
    }
   ],
   "source": [
    "zero_income.shape, non_zero_income.shape"
   ]
  },
  {
   "cell_type": "markdown",
   "metadata": {},
   "source": [
    "### (1) 소득이 0인 집단"
   ]
  },
  {
   "cell_type": "code",
   "execution_count": 14,
   "metadata": {},
   "outputs": [
    {
     "name": "stdout",
     "output_type": "stream",
     "text": [
      "Data Shape: (8697, 23)\n"
     ]
    },
    {
     "data": {
      "text/html": [
       "<div>\n",
       "<style scoped>\n",
       "    .dataframe tbody tr th:only-of-type {\n",
       "        vertical-align: middle;\n",
       "    }\n",
       "\n",
       "    .dataframe tbody tr th {\n",
       "        vertical-align: top;\n",
       "    }\n",
       "\n",
       "    .dataframe thead th {\n",
       "        text-align: right;\n",
       "    }\n",
       "</style>\n",
       "<table border=\"1\" class=\"dataframe\">\n",
       "  <thead>\n",
       "    <tr style=\"text-align: right;\">\n",
       "      <th></th>\n",
       "      <th>Feature</th>\n",
       "      <th>dtypes</th>\n",
       "      <th>Missing</th>\n",
       "      <th>Uniques</th>\n",
       "      <th>First Value</th>\n",
       "      <th>Second Value</th>\n",
       "    </tr>\n",
       "  </thead>\n",
       "  <tbody>\n",
       "    <tr>\n",
       "      <th>0</th>\n",
       "      <td>ID</td>\n",
       "      <td>object</td>\n",
       "      <td>0</td>\n",
       "      <td>8697</td>\n",
       "      <td>TRAIN_00001</td>\n",
       "      <td>TRAIN_00006</td>\n",
       "    </tr>\n",
       "    <tr>\n",
       "      <th>1</th>\n",
       "      <td>Age</td>\n",
       "      <td>int64</td>\n",
       "      <td>0</td>\n",
       "      <td>91</td>\n",
       "      <td>37</td>\n",
       "      <td>67</td>\n",
       "    </tr>\n",
       "    <tr>\n",
       "      <th>2</th>\n",
       "      <td>Gender</td>\n",
       "      <td>object</td>\n",
       "      <td>0</td>\n",
       "      <td>2</td>\n",
       "      <td>M</td>\n",
       "      <td>M</td>\n",
       "    </tr>\n",
       "    <tr>\n",
       "      <th>3</th>\n",
       "      <td>Education_Status</td>\n",
       "      <td>object</td>\n",
       "      <td>0</td>\n",
       "      <td>17</td>\n",
       "      <td>Associates degree (Vocational)</td>\n",
       "      <td>Middle (7-8)</td>\n",
       "    </tr>\n",
       "    <tr>\n",
       "      <th>4</th>\n",
       "      <td>Employment_Status</td>\n",
       "      <td>object</td>\n",
       "      <td>0</td>\n",
       "      <td>8</td>\n",
       "      <td>Full-Time</td>\n",
       "      <td>Children or Armed Forces</td>\n",
       "    </tr>\n",
       "    <tr>\n",
       "      <th>5</th>\n",
       "      <td>Working_Week (Yearly)</td>\n",
       "      <td>int64</td>\n",
       "      <td>0</td>\n",
       "      <td>52</td>\n",
       "      <td>52</td>\n",
       "      <td>0</td>\n",
       "    </tr>\n",
       "    <tr>\n",
       "      <th>6</th>\n",
       "      <td>Industry_Status</td>\n",
       "      <td>object</td>\n",
       "      <td>0</td>\n",
       "      <td>24</td>\n",
       "      <td>Entertainment</td>\n",
       "      <td>Not in universe or children</td>\n",
       "    </tr>\n",
       "    <tr>\n",
       "      <th>7</th>\n",
       "      <td>Occupation_Status</td>\n",
       "      <td>object</td>\n",
       "      <td>0</td>\n",
       "      <td>15</td>\n",
       "      <td>Services</td>\n",
       "      <td>Unknown</td>\n",
       "    </tr>\n",
       "    <tr>\n",
       "      <th>8</th>\n",
       "      <td>Race</td>\n",
       "      <td>object</td>\n",
       "      <td>0</td>\n",
       "      <td>5</td>\n",
       "      <td>White</td>\n",
       "      <td>White</td>\n",
       "    </tr>\n",
       "    <tr>\n",
       "      <th>9</th>\n",
       "      <td>Hispanic_Origin</td>\n",
       "      <td>object</td>\n",
       "      <td>0</td>\n",
       "      <td>10</td>\n",
       "      <td>All other</td>\n",
       "      <td>All other</td>\n",
       "    </tr>\n",
       "    <tr>\n",
       "      <th>10</th>\n",
       "      <td>Martial_Status</td>\n",
       "      <td>object</td>\n",
       "      <td>0</td>\n",
       "      <td>7</td>\n",
       "      <td>Separated</td>\n",
       "      <td>Divorced</td>\n",
       "    </tr>\n",
       "    <tr>\n",
       "      <th>11</th>\n",
       "      <td>Household_Status</td>\n",
       "      <td>object</td>\n",
       "      <td>0</td>\n",
       "      <td>26</td>\n",
       "      <td>Nonfamily householder</td>\n",
       "      <td>Nonfamily householder</td>\n",
       "    </tr>\n",
       "    <tr>\n",
       "      <th>12</th>\n",
       "      <td>Household_Summary</td>\n",
       "      <td>object</td>\n",
       "      <td>0</td>\n",
       "      <td>8</td>\n",
       "      <td>Householder</td>\n",
       "      <td>Householder</td>\n",
       "    </tr>\n",
       "    <tr>\n",
       "      <th>13</th>\n",
       "      <td>Citizenship</td>\n",
       "      <td>object</td>\n",
       "      <td>0</td>\n",
       "      <td>5</td>\n",
       "      <td>Native</td>\n",
       "      <td>Native</td>\n",
       "    </tr>\n",
       "    <tr>\n",
       "      <th>14</th>\n",
       "      <td>Birth_Country</td>\n",
       "      <td>object</td>\n",
       "      <td>0</td>\n",
       "      <td>42</td>\n",
       "      <td>US</td>\n",
       "      <td>US</td>\n",
       "    </tr>\n",
       "    <tr>\n",
       "      <th>15</th>\n",
       "      <td>Birth_Country (Father)</td>\n",
       "      <td>object</td>\n",
       "      <td>0</td>\n",
       "      <td>43</td>\n",
       "      <td>US</td>\n",
       "      <td>US</td>\n",
       "    </tr>\n",
       "    <tr>\n",
       "      <th>16</th>\n",
       "      <td>Birth_Country (Mother)</td>\n",
       "      <td>object</td>\n",
       "      <td>0</td>\n",
       "      <td>43</td>\n",
       "      <td>US</td>\n",
       "      <td>US</td>\n",
       "    </tr>\n",
       "    <tr>\n",
       "      <th>17</th>\n",
       "      <td>Tax_Status</td>\n",
       "      <td>object</td>\n",
       "      <td>0</td>\n",
       "      <td>6</td>\n",
       "      <td>Single</td>\n",
       "      <td>Nonfiler</td>\n",
       "    </tr>\n",
       "    <tr>\n",
       "      <th>18</th>\n",
       "      <td>Gains</td>\n",
       "      <td>int64</td>\n",
       "      <td>0</td>\n",
       "      <td>78</td>\n",
       "      <td>0</td>\n",
       "      <td>0</td>\n",
       "    </tr>\n",
       "    <tr>\n",
       "      <th>19</th>\n",
       "      <td>Losses</td>\n",
       "      <td>int64</td>\n",
       "      <td>0</td>\n",
       "      <td>62</td>\n",
       "      <td>0</td>\n",
       "      <td>0</td>\n",
       "    </tr>\n",
       "    <tr>\n",
       "      <th>20</th>\n",
       "      <td>Dividends</td>\n",
       "      <td>int64</td>\n",
       "      <td>0</td>\n",
       "      <td>279</td>\n",
       "      <td>0</td>\n",
       "      <td>0</td>\n",
       "    </tr>\n",
       "    <tr>\n",
       "      <th>21</th>\n",
       "      <td>Income_Status</td>\n",
       "      <td>object</td>\n",
       "      <td>0</td>\n",
       "      <td>3</td>\n",
       "      <td>Under Median</td>\n",
       "      <td>Unknown</td>\n",
       "    </tr>\n",
       "    <tr>\n",
       "      <th>22</th>\n",
       "      <td>Income</td>\n",
       "      <td>int64</td>\n",
       "      <td>0</td>\n",
       "      <td>1</td>\n",
       "      <td>0</td>\n",
       "      <td>0</td>\n",
       "    </tr>\n",
       "  </tbody>\n",
       "</table>\n",
       "</div>"
      ],
      "text/plain": [
       "                   Feature  dtypes  Missing  Uniques  \\\n",
       "0                       ID  object        0     8697   \n",
       "1                      Age   int64        0       91   \n",
       "2                   Gender  object        0        2   \n",
       "3         Education_Status  object        0       17   \n",
       "4        Employment_Status  object        0        8   \n",
       "5    Working_Week (Yearly)   int64        0       52   \n",
       "6          Industry_Status  object        0       24   \n",
       "7        Occupation_Status  object        0       15   \n",
       "8                     Race  object        0        5   \n",
       "9          Hispanic_Origin  object        0       10   \n",
       "10          Martial_Status  object        0        7   \n",
       "11        Household_Status  object        0       26   \n",
       "12       Household_Summary  object        0        8   \n",
       "13             Citizenship  object        0        5   \n",
       "14           Birth_Country  object        0       42   \n",
       "15  Birth_Country (Father)  object        0       43   \n",
       "16  Birth_Country (Mother)  object        0       43   \n",
       "17              Tax_Status  object        0        6   \n",
       "18                   Gains   int64        0       78   \n",
       "19                  Losses   int64        0       62   \n",
       "20               Dividends   int64        0      279   \n",
       "21           Income_Status  object        0        3   \n",
       "22                  Income   int64        0        1   \n",
       "\n",
       "                       First Value                 Second Value  \n",
       "0                      TRAIN_00001                  TRAIN_00006  \n",
       "1                               37                           67  \n",
       "2                                M                            M  \n",
       "3   Associates degree (Vocational)                 Middle (7-8)  \n",
       "4                        Full-Time     Children or Armed Forces  \n",
       "5                               52                            0  \n",
       "6                    Entertainment  Not in universe or children  \n",
       "7                         Services                      Unknown  \n",
       "8                            White                        White  \n",
       "9                        All other                    All other  \n",
       "10                       Separated                     Divorced  \n",
       "11           Nonfamily householder        Nonfamily householder  \n",
       "12                     Householder                  Householder  \n",
       "13                          Native                       Native  \n",
       "14                              US                           US  \n",
       "15                              US                           US  \n",
       "16                              US                           US  \n",
       "17                          Single                     Nonfiler  \n",
       "18                               0                            0  \n",
       "19                               0                            0  \n",
       "20                               0                            0  \n",
       "21                    Under Median                      Unknown  \n",
       "22                               0                            0  "
      ]
     },
     "execution_count": 14,
     "metadata": {},
     "output_type": "execute_result"
    }
   ],
   "source": [
    "resumetable(zero_income)    # 소득이 0인 집단 자료 요약"
   ]
  },
  {
   "cell_type": "markdown",
   "metadata": {},
   "source": [
    "> 우선 Income이 0인 사람들의 특징을 잘 나타낼 수 있는 몇몇의 핵심 feature를 살펴보자."
   ]
  },
  {
   "cell_type": "code",
   "execution_count": 15,
   "metadata": {},
   "outputs": [
    {
     "data": {
      "text/plain": [
       "Employment_Status\n",
       "Children or Armed Forces         5531\n",
       "Full-Time                        1598\n",
       "Not Working                      1221\n",
       "Choice Part-Time                  137\n",
       "Seeking Full-Time                 105\n",
       "Part-Time (Usually Part-Time)      43\n",
       "Seeking Part-Time                  39\n",
       "Part-Time (Usually Full-Time)      23\n",
       "Name: count, dtype: int64"
      ]
     },
     "execution_count": 15,
     "metadata": {},
     "output_type": "execute_result"
    }
   ],
   "source": [
    "zero_income['Employment_Status'].value_counts()     # 고용 상태 분포"
   ]
  },
  {
   "cell_type": "markdown",
   "metadata": {},
   "source": [
    "Employment_Statu의 분포를 살펴보았을 때, 대부분의 경우 `Children or Armed Forces`가 차지하고 있으며, `특이하게 Full-Time인데도 소득이 0인 경우가 관찰`된다.\n",
    "- *** Full-Time으로 일을 하는데 Income이 0인 경우는 어떤지 살펴볼 필요가 있을 것 같다."
   ]
  },
  {
   "cell_type": "code",
   "execution_count": 16,
   "metadata": {},
   "outputs": [
    {
     "data": {
      "text/plain": [
       "Working_Week (Yearly)\n",
       "0     4447\n",
       "52    2879\n",
       "40     109\n",
       "50      86\n",
       "48      83\n",
       "Name: count, dtype: int64"
      ]
     },
     "execution_count": 16,
     "metadata": {},
     "output_type": "execute_result"
    }
   ],
   "source": [
    "zero_income['Working_Week (Yearly)'].value_counts().head()      # 일을 한 시간(주) 분포"
   ]
  },
  {
   "cell_type": "markdown",
   "metadata": {},
   "source": [
    "> Income이 0인 대부분의 사람의 노동 시간(Working_Week)은 0으로 나타난다. 하지만, 일부 위의 Full-Time처럼 52주 모두 일을 했음에도 Income이 0인 사람도 많이 관측된다."
   ]
  },
  {
   "cell_type": "code",
   "execution_count": 17,
   "metadata": {},
   "outputs": [
    {
     "data": {
      "text/plain": [
       "Industry_Status\n",
       "Not in universe or children    4688\n",
       "Retail                          699\n",
       "Education                       360\n",
       "Manufacturing (Durable)         309\n",
       "Manufacturing (Non-durable)     303\n",
       "Name: count, dtype: int64"
      ]
     },
     "execution_count": 17,
     "metadata": {},
     "output_type": "execute_result"
    }
   ],
   "source": [
    "zero_income['Industry_Status'].value_counts().head()    # 산업 분포"
   ]
  },
  {
   "cell_type": "markdown",
   "metadata": {},
   "source": [
    "> 또한 대부분의 경우 아이나 학생인 것으로 확인이 된다."
   ]
  },
  {
   "cell_type": "markdown",
   "metadata": {},
   "source": [
    "#### [ Insight1 ] 일을 하지 않은 사람들(Not Working)은 소득이 0이다."
   ]
  },
  {
   "cell_type": "code",
   "execution_count": 18,
   "metadata": {},
   "outputs": [
    {
     "data": {
      "text/plain": [
       "Income\n",
       "0    1221\n",
       "Name: count, dtype: int64"
      ]
     },
     "execution_count": 18,
     "metadata": {},
     "output_type": "execute_result"
    }
   ],
   "source": [
    "# Employment_Status가 Not Working인 모든 사람의 Income은 0이다!\n",
    "train[train['Employment_Status'] == 'Not Working']['Income'].value_counts()"
   ]
  },
  {
   "cell_type": "markdown",
   "metadata": {},
   "source": [
    "> Employment_Status가 Not Working인 사람의 경우 모두 소득이 0으로 집계되었다!\n",
    "> - Gain, Losses, Dividends 등 수익의 종류가 나누어져있는 시점에서, Income의 경우 일을 하는 여부에 따라 정해지는 경향이 있는 것으로 보인다.<br>즉, 일을 한다고 모두 소득이 있다고는 할 수 없을지언정 `일을 하지 않은 이들은 모두 소득이 없는 것으로 보인다.`"
   ]
  },
  {
   "cell_type": "markdown",
   "metadata": {},
   "source": [
    "#### [ Insight2 ] Education_Status가 청소년(Children)인 경우 소득이 0이다."
   ]
  },
  {
   "cell_type": "code",
   "execution_count": 120,
   "metadata": {},
   "outputs": [
    {
     "data": {
      "text/html": [
       "<div>\n",
       "<style scoped>\n",
       "    .dataframe tbody tr th:only-of-type {\n",
       "        vertical-align: middle;\n",
       "    }\n",
       "\n",
       "    .dataframe tbody tr th {\n",
       "        vertical-align: top;\n",
       "    }\n",
       "\n",
       "    .dataframe thead th {\n",
       "        text-align: right;\n",
       "    }\n",
       "</style>\n",
       "<table border=\"1\" class=\"dataframe\">\n",
       "  <thead>\n",
       "    <tr style=\"text-align: right;\">\n",
       "      <th>Education_Status</th>\n",
       "      <th>Associates degree (Vocational)</th>\n",
       "      <th>Associates degree (Academic)</th>\n",
       "      <th>Bachelors degree</th>\n",
       "      <th>High graduate</th>\n",
       "      <th>College</th>\n",
       "      <th>Masters degree</th>\n",
       "      <th>Doctorate degree</th>\n",
       "      <th>Professional degree</th>\n",
       "      <th>High Junior</th>\n",
       "      <th>High Senior</th>\n",
       "      <th>High Sophomore</th>\n",
       "      <th>High Freshman</th>\n",
       "      <th>Middle (7-8)</th>\n",
       "      <th>Elementary (1-4)</th>\n",
       "      <th>Elementary (5-6)</th>\n",
       "      <th>Kindergarten</th>\n",
       "      <th>Children</th>\n",
       "    </tr>\n",
       "  </thead>\n",
       "  <tbody>\n",
       "    <tr>\n",
       "      <th>Income</th>\n",
       "      <td>867.269906</td>\n",
       "      <td>782.740558</td>\n",
       "      <td>699.367076</td>\n",
       "      <td>664.65214</td>\n",
       "      <td>651.468108</td>\n",
       "      <td>616.10297</td>\n",
       "      <td>575.528736</td>\n",
       "      <td>547.036036</td>\n",
       "      <td>483.034146</td>\n",
       "      <td>459.942149</td>\n",
       "      <td>408.658323</td>\n",
       "      <td>366.794595</td>\n",
       "      <td>346.883212</td>\n",
       "      <td>343.44</td>\n",
       "      <td>325.116719</td>\n",
       "      <td>187.640625</td>\n",
       "      <td>0.0</td>\n",
       "    </tr>\n",
       "  </tbody>\n",
       "</table>\n",
       "</div>"
      ],
      "text/plain": [
       "Education_Status  Associates degree (Vocational)  \\\n",
       "Income                                867.269906   \n",
       "\n",
       "Education_Status  Associates degree (Academic)  Bachelors degree  \\\n",
       "Income                              782.740558        699.367076   \n",
       "\n",
       "Education_Status  High graduate     College  Masters degree  Doctorate degree  \\\n",
       "Income                664.65214  651.468108       616.10297        575.528736   \n",
       "\n",
       "Education_Status  Professional degree  High Junior  High Senior  \\\n",
       "Income                     547.036036   483.034146   459.942149   \n",
       "\n",
       "Education_Status  High Sophomore  High Freshman  Middle (7-8)  \\\n",
       "Income                408.658323     366.794595    346.883212   \n",
       "\n",
       "Education_Status  Elementary (1-4)  Elementary (5-6)  Kindergarten  Children  \n",
       "Income                      343.44        325.116719    187.640625       0.0  "
      ]
     },
     "execution_count": 120,
     "metadata": {},
     "output_type": "execute_result"
    }
   ],
   "source": [
    "# Education_Status에 따른 소득 평균을 살펴보면 Children의 전체 소득은 0이다.\n",
    "train.groupby('Education_Status')[['Income']].mean().sort_values(by='Income', ascending=False).T"
   ]
  },
  {
   "cell_type": "code",
   "execution_count": 32,
   "metadata": {},
   "outputs": [
    {
     "data": {
      "text/plain": [
       "(2208, 23)"
      ]
     },
     "execution_count": 32,
     "metadata": {},
     "output_type": "execute_result"
    }
   ],
   "source": [
    "train[train['Education_Status']=='Children'].shape"
   ]
  },
  {
   "cell_type": "markdown",
   "metadata": {},
   "source": [
    "> Education_Status가 Children인 사람의 경우 모두 Income이 0으로 확인되었다.\n",
    "> - 또한 학력이 높음에 따라 소득 수준이 높아지는 경향이 약간 보인다(순서형 자료로 생각해야 할 수도 있을 것 같다)"
   ]
  },
  {
   "cell_type": "code",
   "execution_count": null,
   "metadata": {},
   "outputs": [],
   "source": []
  },
  {
   "cell_type": "markdown",
   "metadata": {},
   "source": [
    "### (2) 소득이 0이 아닌 집단"
   ]
  },
  {
   "cell_type": "code",
   "execution_count": 34,
   "metadata": {},
   "outputs": [
    {
     "name": "stdout",
     "output_type": "stream",
     "text": [
      "Data Shape: (11303, 23)\n"
     ]
    },
    {
     "data": {
      "text/html": [
       "<div>\n",
       "<style scoped>\n",
       "    .dataframe tbody tr th:only-of-type {\n",
       "        vertical-align: middle;\n",
       "    }\n",
       "\n",
       "    .dataframe tbody tr th {\n",
       "        vertical-align: top;\n",
       "    }\n",
       "\n",
       "    .dataframe thead th {\n",
       "        text-align: right;\n",
       "    }\n",
       "</style>\n",
       "<table border=\"1\" class=\"dataframe\">\n",
       "  <thead>\n",
       "    <tr style=\"text-align: right;\">\n",
       "      <th></th>\n",
       "      <th>Feature</th>\n",
       "      <th>dtypes</th>\n",
       "      <th>Missing</th>\n",
       "      <th>Uniques</th>\n",
       "      <th>First Value</th>\n",
       "      <th>Second Value</th>\n",
       "    </tr>\n",
       "  </thead>\n",
       "  <tbody>\n",
       "    <tr>\n",
       "      <th>0</th>\n",
       "      <td>ID</td>\n",
       "      <td>object</td>\n",
       "      <td>0</td>\n",
       "      <td>11303</td>\n",
       "      <td>TRAIN_00000</td>\n",
       "      <td>TRAIN_00002</td>\n",
       "    </tr>\n",
       "    <tr>\n",
       "      <th>1</th>\n",
       "      <td>Age</td>\n",
       "      <td>int64</td>\n",
       "      <td>0</td>\n",
       "      <td>70</td>\n",
       "      <td>63</td>\n",
       "      <td>58</td>\n",
       "    </tr>\n",
       "    <tr>\n",
       "      <th>2</th>\n",
       "      <td>Gender</td>\n",
       "      <td>object</td>\n",
       "      <td>0</td>\n",
       "      <td>2</td>\n",
       "      <td>M</td>\n",
       "      <td>F</td>\n",
       "    </tr>\n",
       "    <tr>\n",
       "      <th>3</th>\n",
       "      <td>Education_Status</td>\n",
       "      <td>object</td>\n",
       "      <td>0</td>\n",
       "      <td>16</td>\n",
       "      <td>Middle (7-8)</td>\n",
       "      <td>High graduate</td>\n",
       "    </tr>\n",
       "    <tr>\n",
       "      <th>4</th>\n",
       "      <td>Employment_Status</td>\n",
       "      <td>object</td>\n",
       "      <td>0</td>\n",
       "      <td>7</td>\n",
       "      <td>Full-Time</td>\n",
       "      <td>Full-Time</td>\n",
       "    </tr>\n",
       "    <tr>\n",
       "      <th>5</th>\n",
       "      <td>Working_Week (Yearly)</td>\n",
       "      <td>int64</td>\n",
       "      <td>0</td>\n",
       "      <td>53</td>\n",
       "      <td>4</td>\n",
       "      <td>52</td>\n",
       "    </tr>\n",
       "    <tr>\n",
       "      <th>6</th>\n",
       "      <td>Industry_Status</td>\n",
       "      <td>object</td>\n",
       "      <td>0</td>\n",
       "      <td>22</td>\n",
       "      <td>Social Services</td>\n",
       "      <td>Manufacturing (Non-durable)</td>\n",
       "    </tr>\n",
       "    <tr>\n",
       "      <th>7</th>\n",
       "      <td>Occupation_Status</td>\n",
       "      <td>object</td>\n",
       "      <td>0</td>\n",
       "      <td>13</td>\n",
       "      <td>Services</td>\n",
       "      <td>Admin Support (include Clerical)</td>\n",
       "    </tr>\n",
       "    <tr>\n",
       "      <th>8</th>\n",
       "      <td>Race</td>\n",
       "      <td>object</td>\n",
       "      <td>0</td>\n",
       "      <td>5</td>\n",
       "      <td>White</td>\n",
       "      <td>Black</td>\n",
       "    </tr>\n",
       "    <tr>\n",
       "      <th>9</th>\n",
       "      <td>Hispanic_Origin</td>\n",
       "      <td>object</td>\n",
       "      <td>0</td>\n",
       "      <td>10</td>\n",
       "      <td>All other</td>\n",
       "      <td>All other</td>\n",
       "    </tr>\n",
       "    <tr>\n",
       "      <th>10</th>\n",
       "      <td>Martial_Status</td>\n",
       "      <td>object</td>\n",
       "      <td>0</td>\n",
       "      <td>7</td>\n",
       "      <td>Married</td>\n",
       "      <td>Married</td>\n",
       "    </tr>\n",
       "    <tr>\n",
       "      <th>11</th>\n",
       "      <td>Household_Status</td>\n",
       "      <td>object</td>\n",
       "      <td>0</td>\n",
       "      <td>31</td>\n",
       "      <td>Householder</td>\n",
       "      <td>Householder</td>\n",
       "    </tr>\n",
       "    <tr>\n",
       "      <th>12</th>\n",
       "      <td>Household_Summary</td>\n",
       "      <td>object</td>\n",
       "      <td>0</td>\n",
       "      <td>8</td>\n",
       "      <td>Householder</td>\n",
       "      <td>Householder</td>\n",
       "    </tr>\n",
       "    <tr>\n",
       "      <th>13</th>\n",
       "      <td>Citizenship</td>\n",
       "      <td>object</td>\n",
       "      <td>0</td>\n",
       "      <td>5</td>\n",
       "      <td>Native</td>\n",
       "      <td>Native</td>\n",
       "    </tr>\n",
       "    <tr>\n",
       "      <th>14</th>\n",
       "      <td>Birth_Country</td>\n",
       "      <td>object</td>\n",
       "      <td>0</td>\n",
       "      <td>42</td>\n",
       "      <td>US</td>\n",
       "      <td>US</td>\n",
       "    </tr>\n",
       "    <tr>\n",
       "      <th>15</th>\n",
       "      <td>Birth_Country (Father)</td>\n",
       "      <td>object</td>\n",
       "      <td>0</td>\n",
       "      <td>42</td>\n",
       "      <td>US</td>\n",
       "      <td>US</td>\n",
       "    </tr>\n",
       "    <tr>\n",
       "      <th>16</th>\n",
       "      <td>Birth_Country (Mother)</td>\n",
       "      <td>object</td>\n",
       "      <td>0</td>\n",
       "      <td>43</td>\n",
       "      <td>US</td>\n",
       "      <td>US</td>\n",
       "    </tr>\n",
       "    <tr>\n",
       "      <th>17</th>\n",
       "      <td>Tax_Status</td>\n",
       "      <td>object</td>\n",
       "      <td>0</td>\n",
       "      <td>6</td>\n",
       "      <td>Nonfiler</td>\n",
       "      <td>Married Filling Jointly both under 65 (MFJ)</td>\n",
       "    </tr>\n",
       "    <tr>\n",
       "      <th>18</th>\n",
       "      <td>Gains</td>\n",
       "      <td>int64</td>\n",
       "      <td>0</td>\n",
       "      <td>93</td>\n",
       "      <td>0</td>\n",
       "      <td>3411</td>\n",
       "    </tr>\n",
       "    <tr>\n",
       "      <th>19</th>\n",
       "      <td>Losses</td>\n",
       "      <td>int64</td>\n",
       "      <td>0</td>\n",
       "      <td>69</td>\n",
       "      <td>0</td>\n",
       "      <td>0</td>\n",
       "    </tr>\n",
       "    <tr>\n",
       "      <th>20</th>\n",
       "      <td>Dividends</td>\n",
       "      <td>int64</td>\n",
       "      <td>0</td>\n",
       "      <td>260</td>\n",
       "      <td>0</td>\n",
       "      <td>0</td>\n",
       "    </tr>\n",
       "    <tr>\n",
       "      <th>21</th>\n",
       "      <td>Income_Status</td>\n",
       "      <td>object</td>\n",
       "      <td>0</td>\n",
       "      <td>3</td>\n",
       "      <td>Unknown</td>\n",
       "      <td>Under Median</td>\n",
       "    </tr>\n",
       "    <tr>\n",
       "      <th>22</th>\n",
       "      <td>Income</td>\n",
       "      <td>int64</td>\n",
       "      <td>0</td>\n",
       "      <td>1227</td>\n",
       "      <td>425</td>\n",
       "      <td>860</td>\n",
       "    </tr>\n",
       "  </tbody>\n",
       "</table>\n",
       "</div>"
      ],
      "text/plain": [
       "                   Feature  dtypes  Missing  Uniques      First Value  \\\n",
       "0                       ID  object        0    11303      TRAIN_00000   \n",
       "1                      Age   int64        0       70               63   \n",
       "2                   Gender  object        0        2                M   \n",
       "3         Education_Status  object        0       16     Middle (7-8)   \n",
       "4        Employment_Status  object        0        7        Full-Time   \n",
       "5    Working_Week (Yearly)   int64        0       53                4   \n",
       "6          Industry_Status  object        0       22  Social Services   \n",
       "7        Occupation_Status  object        0       13         Services   \n",
       "8                     Race  object        0        5            White   \n",
       "9          Hispanic_Origin  object        0       10        All other   \n",
       "10          Martial_Status  object        0        7          Married   \n",
       "11        Household_Status  object        0       31      Householder   \n",
       "12       Household_Summary  object        0        8      Householder   \n",
       "13             Citizenship  object        0        5           Native   \n",
       "14           Birth_Country  object        0       42               US   \n",
       "15  Birth_Country (Father)  object        0       42               US   \n",
       "16  Birth_Country (Mother)  object        0       43               US   \n",
       "17              Tax_Status  object        0        6         Nonfiler   \n",
       "18                   Gains   int64        0       93                0   \n",
       "19                  Losses   int64        0       69                0   \n",
       "20               Dividends   int64        0      260                0   \n",
       "21           Income_Status  object        0        3          Unknown   \n",
       "22                  Income   int64        0     1227              425   \n",
       "\n",
       "                                   Second Value  \n",
       "0                                   TRAIN_00002  \n",
       "1                                            58  \n",
       "2                                             F  \n",
       "3                                 High graduate  \n",
       "4                                     Full-Time  \n",
       "5                                            52  \n",
       "6                   Manufacturing (Non-durable)  \n",
       "7              Admin Support (include Clerical)  \n",
       "8                                         Black  \n",
       "9                                     All other  \n",
       "10                                      Married  \n",
       "11                                  Householder  \n",
       "12                                  Householder  \n",
       "13                                       Native  \n",
       "14                                           US  \n",
       "15                                           US  \n",
       "16                                           US  \n",
       "17  Married Filling Jointly both under 65 (MFJ)  \n",
       "18                                         3411  \n",
       "19                                            0  \n",
       "20                                            0  \n",
       "21                                 Under Median  \n",
       "22                                          860  "
      ]
     },
     "execution_count": 34,
     "metadata": {},
     "output_type": "execute_result"
    }
   ],
   "source": [
    "resumetable(non_zero_income)    # 소득이 0이 아닌 집단 자료 요약"
   ]
  },
  {
   "cell_type": "code",
   "execution_count": 36,
   "metadata": {},
   "outputs": [
    {
     "data": {
      "image/png": "[encoded data removed]",
      "text/plain": [
       "<Figure size 1200x400 with 2 Axes>"
      ]
     },
     "metadata": {},
     "output_type": "display_data"
    }
   ],
   "source": [
    "# Income 분포 시각화\n",
    "plt.figure(figsize=(12, 4))\n",
    "\n",
    "plt.subplot(1, 2, 1)\n",
    "sns.histplot(non_zero_income['Income'])\n",
    "plt.title('Income Histogram')\n",
    "\n",
    "plt.subplot(1, 2, 2)\n",
    "sns.boxplot(y='Income', data=non_zero_income)\n",
    "plt.title('Income Boxplot')\n",
    "\n",
    "plt.show()"
   ]
  },
  {
   "cell_type": "markdown",
   "metadata": {},
   "source": [
    "> 소득이 0인 경우를 제외하더라도 꽤 많은 이상치로 인해 치우친 분포가 나타난다."
   ]
  },
  {
   "cell_type": "code",
   "execution_count": null,
   "metadata": {},
   "outputs": [],
   "source": []
  },
  {
   "cell_type": "markdown",
   "metadata": {},
   "source": [
    "해야할 거\n",
    "1. ~~소득이 0인 경우를 제외한 Income의 분포 확인~~\n",
    "2. Working_Week (Yearly)가 52인 경우 즉, Full-Time으로 일하는데 소득이 0인 사람이 많이 보이는데 그 이유를 살펴보자.\n",
    "3. ~~Employment_Status == Children or Armed Forces의 소득이 전체가 0인가 확인~~\n",
    "   - 다 그렇지는 않다.\n",
    "4. 소득이 0이 아닌 사람의 전반적인 특징 확인\n",
    "5. ~~각 feature에서 이상치 처리해야하는지 여부 확인~~"
   ]
  },
  {
   "cell_type": "code",
   "execution_count": 52,
   "metadata": {},
   "outputs": [
    {
     "data": {
      "text/plain": [
       "Income\n",
       "0       2879\n",
       "800      367\n",
       "700      357\n",
       "500      356\n",
       "600      319\n",
       "        ... \n",
       "1715       1\n",
       "2299       1\n",
       "1701       1\n",
       "1212       1\n",
       "2373       1\n",
       "Name: count, Length: 1096, dtype: int64"
      ]
     },
     "execution_count": 52,
     "metadata": {},
     "output_type": "execute_result"
    }
   ],
   "source": [
    "train[train['Working_Week (Yearly)'] == 52]['Income'].value_counts()"
   ]
  },
  {
   "cell_type": "code",
   "execution_count": 104,
   "metadata": {},
   "outputs": [
    {
     "data": {
      "text/html": [
       "<div>\n",
       "<style scoped>\n",
       "    .dataframe tbody tr th:only-of-type {\n",
       "        vertical-align: middle;\n",
       "    }\n",
       "\n",
       "    .dataframe tbody tr th {\n",
       "        vertical-align: top;\n",
       "    }\n",
       "\n",
       "    .dataframe thead th {\n",
       "        text-align: right;\n",
       "    }\n",
       "</style>\n",
       "<table border=\"1\" class=\"dataframe\">\n",
       "  <thead>\n",
       "    <tr style=\"text-align: right;\">\n",
       "      <th></th>\n",
       "      <th>ID</th>\n",
       "      <th>Age</th>\n",
       "      <th>Gender</th>\n",
       "      <th>Education_Status</th>\n",
       "      <th>Employment_Status</th>\n",
       "      <th>Working_Week (Yearly)</th>\n",
       "      <th>Industry_Status</th>\n",
       "      <th>Occupation_Status</th>\n",
       "      <th>Race</th>\n",
       "      <th>Hispanic_Origin</th>\n",
       "      <th>...</th>\n",
       "      <th>Citizenship</th>\n",
       "      <th>Birth_Country</th>\n",
       "      <th>Birth_Country (Father)</th>\n",
       "      <th>Birth_Country (Mother)</th>\n",
       "      <th>Tax_Status</th>\n",
       "      <th>Gains</th>\n",
       "      <th>Losses</th>\n",
       "      <th>Dividends</th>\n",
       "      <th>Income_Status</th>\n",
       "      <th>Income</th>\n",
       "    </tr>\n",
       "  </thead>\n",
       "  <tbody>\n",
       "    <tr>\n",
       "      <th>1</th>\n",
       "      <td>TRAIN_00001</td>\n",
       "      <td>37</td>\n",
       "      <td>M</td>\n",
       "      <td>Associates degree (Vocational)</td>\n",
       "      <td>Full-Time</td>\n",
       "      <td>52</td>\n",
       "      <td>Entertainment</td>\n",
       "      <td>Services</td>\n",
       "      <td>White</td>\n",
       "      <td>All other</td>\n",
       "      <td>...</td>\n",
       "      <td>Native</td>\n",
       "      <td>US</td>\n",
       "      <td>US</td>\n",
       "      <td>US</td>\n",
       "      <td>Single</td>\n",
       "      <td>0</td>\n",
       "      <td>0</td>\n",
       "      <td>0</td>\n",
       "      <td>Under Median</td>\n",
       "      <td>0</td>\n",
       "    </tr>\n",
       "    <tr>\n",
       "      <th>8</th>\n",
       "      <td>TRAIN_00008</td>\n",
       "      <td>24</td>\n",
       "      <td>F</td>\n",
       "      <td>Bachelors degree</td>\n",
       "      <td>Children or Armed Forces</td>\n",
       "      <td>52</td>\n",
       "      <td>Retail</td>\n",
       "      <td>Sales</td>\n",
       "      <td>White</td>\n",
       "      <td>All other</td>\n",
       "      <td>...</td>\n",
       "      <td>Native</td>\n",
       "      <td>US</td>\n",
       "      <td>US</td>\n",
       "      <td>US</td>\n",
       "      <td>Single</td>\n",
       "      <td>0</td>\n",
       "      <td>0</td>\n",
       "      <td>0</td>\n",
       "      <td>Under Median</td>\n",
       "      <td>0</td>\n",
       "    </tr>\n",
       "    <tr>\n",
       "      <th>10</th>\n",
       "      <td>TRAIN_00010</td>\n",
       "      <td>56</td>\n",
       "      <td>F</td>\n",
       "      <td>High graduate</td>\n",
       "      <td>Children or Armed Forces</td>\n",
       "      <td>52</td>\n",
       "      <td>Hospitals</td>\n",
       "      <td>Services</td>\n",
       "      <td>Black</td>\n",
       "      <td>All other</td>\n",
       "      <td>...</td>\n",
       "      <td>Native</td>\n",
       "      <td>US</td>\n",
       "      <td>US</td>\n",
       "      <td>US</td>\n",
       "      <td>Married Filling Jointly one over 65 &amp; one unde...</td>\n",
       "      <td>0</td>\n",
       "      <td>0</td>\n",
       "      <td>0</td>\n",
       "      <td>Under Median</td>\n",
       "      <td>0</td>\n",
       "    </tr>\n",
       "    <tr>\n",
       "      <th>14</th>\n",
       "      <td>TRAIN_00014</td>\n",
       "      <td>44</td>\n",
       "      <td>M</td>\n",
       "      <td>High graduate</td>\n",
       "      <td>Children or Armed Forces</td>\n",
       "      <td>52</td>\n",
       "      <td>Public Administration</td>\n",
       "      <td>Protective Services</td>\n",
       "      <td>White</td>\n",
       "      <td>All other</td>\n",
       "      <td>...</td>\n",
       "      <td>Native</td>\n",
       "      <td>US</td>\n",
       "      <td>US</td>\n",
       "      <td>US</td>\n",
       "      <td>Married Filling Jointly both under 65 (MFJ)</td>\n",
       "      <td>0</td>\n",
       "      <td>0</td>\n",
       "      <td>200</td>\n",
       "      <td>Over Median</td>\n",
       "      <td>0</td>\n",
       "    </tr>\n",
       "    <tr>\n",
       "      <th>26</th>\n",
       "      <td>TRAIN_00026</td>\n",
       "      <td>40</td>\n",
       "      <td>M</td>\n",
       "      <td>College</td>\n",
       "      <td>Children or Armed Forces</td>\n",
       "      <td>52</td>\n",
       "      <td>Medical (except Hospitals)</td>\n",
       "      <td>Professional</td>\n",
       "      <td>White</td>\n",
       "      <td>All other</td>\n",
       "      <td>...</td>\n",
       "      <td>Native</td>\n",
       "      <td>US</td>\n",
       "      <td>US</td>\n",
       "      <td>US</td>\n",
       "      <td>Married Filling Jointly both under 65 (MFJ)</td>\n",
       "      <td>0</td>\n",
       "      <td>0</td>\n",
       "      <td>0</td>\n",
       "      <td>Under Median</td>\n",
       "      <td>0</td>\n",
       "    </tr>\n",
       "    <tr>\n",
       "      <th>...</th>\n",
       "      <td>...</td>\n",
       "      <td>...</td>\n",
       "      <td>...</td>\n",
       "      <td>...</td>\n",
       "      <td>...</td>\n",
       "      <td>...</td>\n",
       "      <td>...</td>\n",
       "      <td>...</td>\n",
       "      <td>...</td>\n",
       "      <td>...</td>\n",
       "      <td>...</td>\n",
       "      <td>...</td>\n",
       "      <td>...</td>\n",
       "      <td>...</td>\n",
       "      <td>...</td>\n",
       "      <td>...</td>\n",
       "      <td>...</td>\n",
       "      <td>...</td>\n",
       "      <td>...</td>\n",
       "      <td>...</td>\n",
       "      <td>...</td>\n",
       "    </tr>\n",
       "    <tr>\n",
       "      <th>19937</th>\n",
       "      <td>TRAIN_19937</td>\n",
       "      <td>20</td>\n",
       "      <td>M</td>\n",
       "      <td>High Sophomore</td>\n",
       "      <td>Full-Time</td>\n",
       "      <td>52</td>\n",
       "      <td>Manufacturing (Non-durable)</td>\n",
       "      <td>Machine Operators &amp; Inspectors</td>\n",
       "      <td>White</td>\n",
       "      <td>All other</td>\n",
       "      <td>...</td>\n",
       "      <td>Native</td>\n",
       "      <td>US</td>\n",
       "      <td>US</td>\n",
       "      <td>US</td>\n",
       "      <td>Single</td>\n",
       "      <td>0</td>\n",
       "      <td>0</td>\n",
       "      <td>0</td>\n",
       "      <td>Under Median</td>\n",
       "      <td>0</td>\n",
       "    </tr>\n",
       "    <tr>\n",
       "      <th>19946</th>\n",
       "      <td>TRAIN_19946</td>\n",
       "      <td>33</td>\n",
       "      <td>M</td>\n",
       "      <td>College</td>\n",
       "      <td>Children or Armed Forces</td>\n",
       "      <td>52</td>\n",
       "      <td>Manufacturing (Durable)</td>\n",
       "      <td>Professional</td>\n",
       "      <td>White</td>\n",
       "      <td>All other</td>\n",
       "      <td>...</td>\n",
       "      <td>Native</td>\n",
       "      <td>US</td>\n",
       "      <td>US</td>\n",
       "      <td>US</td>\n",
       "      <td>Single</td>\n",
       "      <td>0</td>\n",
       "      <td>0</td>\n",
       "      <td>75</td>\n",
       "      <td>Under Median</td>\n",
       "      <td>0</td>\n",
       "    </tr>\n",
       "    <tr>\n",
       "      <th>19977</th>\n",
       "      <td>TRAIN_19977</td>\n",
       "      <td>70</td>\n",
       "      <td>F</td>\n",
       "      <td>High graduate</td>\n",
       "      <td>Full-Time</td>\n",
       "      <td>52</td>\n",
       "      <td>Education</td>\n",
       "      <td>Admin Support (include Clerical)</td>\n",
       "      <td>White</td>\n",
       "      <td>All other</td>\n",
       "      <td>...</td>\n",
       "      <td>Native</td>\n",
       "      <td>US</td>\n",
       "      <td>US</td>\n",
       "      <td>US</td>\n",
       "      <td>Married Filling Jointly both over 65 (MFJ)</td>\n",
       "      <td>0</td>\n",
       "      <td>0</td>\n",
       "      <td>0</td>\n",
       "      <td>Under Median</td>\n",
       "      <td>0</td>\n",
       "    </tr>\n",
       "    <tr>\n",
       "      <th>19978</th>\n",
       "      <td>TRAIN_19978</td>\n",
       "      <td>75</td>\n",
       "      <td>M</td>\n",
       "      <td>High graduate</td>\n",
       "      <td>Choice Part-Time</td>\n",
       "      <td>52</td>\n",
       "      <td>Finance Insurance &amp; Real Estate</td>\n",
       "      <td>Sales</td>\n",
       "      <td>White</td>\n",
       "      <td>All other</td>\n",
       "      <td>...</td>\n",
       "      <td>Native</td>\n",
       "      <td>US</td>\n",
       "      <td>US</td>\n",
       "      <td>US</td>\n",
       "      <td>Nonfiler</td>\n",
       "      <td>0</td>\n",
       "      <td>0</td>\n",
       "      <td>456</td>\n",
       "      <td>Unknown</td>\n",
       "      <td>0</td>\n",
       "    </tr>\n",
       "    <tr>\n",
       "      <th>19979</th>\n",
       "      <td>TRAIN_19979</td>\n",
       "      <td>52</td>\n",
       "      <td>F</td>\n",
       "      <td>Masters degree</td>\n",
       "      <td>Children or Armed Forces</td>\n",
       "      <td>52</td>\n",
       "      <td>Education</td>\n",
       "      <td>Professional</td>\n",
       "      <td>White</td>\n",
       "      <td>All other</td>\n",
       "      <td>...</td>\n",
       "      <td>Foreign-born (Naturalized US Citizen)</td>\n",
       "      <td>Germany</td>\n",
       "      <td>Germany</td>\n",
       "      <td>Germany</td>\n",
       "      <td>Married Filling Jointly both under 65 (MFJ)</td>\n",
       "      <td>0</td>\n",
       "      <td>0</td>\n",
       "      <td>0</td>\n",
       "      <td>Under Median</td>\n",
       "      <td>0</td>\n",
       "    </tr>\n",
       "  </tbody>\n",
       "</table>\n",
       "<p>2879 rows × 23 columns</p>\n",
       "</div>"
      ],
      "text/plain": [
       "                ID  Age Gender                Education_Status  \\\n",
       "1      TRAIN_00001   37      M  Associates degree (Vocational)   \n",
       "8      TRAIN_00008   24      F                Bachelors degree   \n",
       "10     TRAIN_00010   56      F                   High graduate   \n",
       "14     TRAIN_00014   44      M                   High graduate   \n",
       "26     TRAIN_00026   40      M                         College   \n",
       "...            ...  ...    ...                             ...   \n",
       "19937  TRAIN_19937   20      M                  High Sophomore   \n",
       "19946  TRAIN_19946   33      M                         College   \n",
       "19977  TRAIN_19977   70      F                   High graduate   \n",
       "19978  TRAIN_19978   75      M                   High graduate   \n",
       "19979  TRAIN_19979   52      F                  Masters degree   \n",
       "\n",
       "              Employment_Status  Working_Week (Yearly)  \\\n",
       "1                     Full-Time                     52   \n",
       "8      Children or Armed Forces                     52   \n",
       "10     Children or Armed Forces                     52   \n",
       "14     Children or Armed Forces                     52   \n",
       "26     Children or Armed Forces                     52   \n",
       "...                         ...                    ...   \n",
       "19937                 Full-Time                     52   \n",
       "19946  Children or Armed Forces                     52   \n",
       "19977                 Full-Time                     52   \n",
       "19978          Choice Part-Time                     52   \n",
       "19979  Children or Armed Forces                     52   \n",
       "\n",
       "                       Industry_Status                 Occupation_Status  \\\n",
       "1                        Entertainment                          Services   \n",
       "8                               Retail                             Sales   \n",
       "10                           Hospitals                          Services   \n",
       "14               Public Administration               Protective Services   \n",
       "26          Medical (except Hospitals)                      Professional   \n",
       "...                                ...                               ...   \n",
       "19937      Manufacturing (Non-durable)    Machine Operators & Inspectors   \n",
       "19946          Manufacturing (Durable)                      Professional   \n",
       "19977                        Education  Admin Support (include Clerical)   \n",
       "19978  Finance Insurance & Real Estate                             Sales   \n",
       "19979                        Education                      Professional   \n",
       "\n",
       "        Race Hispanic_Origin  ...                            Citizenship  \\\n",
       "1      White       All other  ...                                 Native   \n",
       "8      White       All other  ...                                 Native   \n",
       "10     Black       All other  ...                                 Native   \n",
       "14     White       All other  ...                                 Native   \n",
       "26     White       All other  ...                                 Native   \n",
       "...      ...             ...  ...                                    ...   \n",
       "19937  White       All other  ...                                 Native   \n",
       "19946  White       All other  ...                                 Native   \n",
       "19977  White       All other  ...                                 Native   \n",
       "19978  White       All other  ...                                 Native   \n",
       "19979  White       All other  ...  Foreign-born (Naturalized US Citizen)   \n",
       "\n",
       "      Birth_Country Birth_Country (Father) Birth_Country (Mother)  \\\n",
       "1                US                     US                     US   \n",
       "8                US                     US                     US   \n",
       "10               US                     US                     US   \n",
       "14               US                     US                     US   \n",
       "26               US                     US                     US   \n",
       "...             ...                    ...                    ...   \n",
       "19937            US                     US                     US   \n",
       "19946            US                     US                     US   \n",
       "19977            US                     US                     US   \n",
       "19978            US                     US                     US   \n",
       "19979       Germany                Germany                Germany   \n",
       "\n",
       "                                              Tax_Status Gains Losses  \\\n",
       "1                                                 Single     0      0   \n",
       "8                                                 Single     0      0   \n",
       "10     Married Filling Jointly one over 65 & one unde...     0      0   \n",
       "14           Married Filling Jointly both under 65 (MFJ)     0      0   \n",
       "26           Married Filling Jointly both under 65 (MFJ)     0      0   \n",
       "...                                                  ...   ...    ...   \n",
       "19937                                             Single     0      0   \n",
       "19946                                             Single     0      0   \n",
       "19977         Married Filling Jointly both over 65 (MFJ)     0      0   \n",
       "19978                                           Nonfiler     0      0   \n",
       "19979        Married Filling Jointly both under 65 (MFJ)     0      0   \n",
       "\n",
       "      Dividends  Income_Status  Income  \n",
       "1             0   Under Median       0  \n",
       "8             0   Under Median       0  \n",
       "10            0   Under Median       0  \n",
       "14          200    Over Median       0  \n",
       "26            0   Under Median       0  \n",
       "...         ...            ...     ...  \n",
       "19937         0   Under Median       0  \n",
       "19946        75   Under Median       0  \n",
       "19977         0   Under Median       0  \n",
       "19978       456        Unknown       0  \n",
       "19979         0   Under Median       0  \n",
       "\n",
       "[2879 rows x 23 columns]"
      ]
     },
     "execution_count": 104,
     "metadata": {},
     "output_type": "execute_result"
    }
   ],
   "source": [
    "zero_income[zero_income['Working_Week (Yearly)'] == 52]"
   ]
  },
  {
   "cell_type": "code",
   "execution_count": null,
   "metadata": {},
   "outputs": [],
   "source": []
  },
  {
   "cell_type": "code",
   "execution_count": 122,
   "metadata": {},
   "outputs": [
    {
     "data": {
      "text/html": [
       "<div>\n",
       "<style scoped>\n",
       "    .dataframe tbody tr th:only-of-type {\n",
       "        vertical-align: middle;\n",
       "    }\n",
       "\n",
       "    .dataframe tbody tr th {\n",
       "        vertical-align: top;\n",
       "    }\n",
       "\n",
       "    .dataframe thead th {\n",
       "        text-align: right;\n",
       "    }\n",
       "</style>\n",
       "<table border=\"1\" class=\"dataframe\">\n",
       "  <thead>\n",
       "    <tr style=\"text-align: right;\">\n",
       "      <th>Income_Status</th>\n",
       "      <th>Over Median</th>\n",
       "      <th>Under Median</th>\n",
       "      <th>Unknown</th>\n",
       "    </tr>\n",
       "  </thead>\n",
       "  <tbody>\n",
       "    <tr>\n",
       "      <th>Income</th>\n",
       "      <td>500.0</td>\n",
       "      <td>500.0</td>\n",
       "      <td>475.0</td>\n",
       "    </tr>\n",
       "  </tbody>\n",
       "</table>\n",
       "</div>"
      ],
      "text/plain": [
       "Income_Status  Over Median  Under Median  Unknown\n",
       "Income               500.0         500.0    475.0"
      ]
     },
     "execution_count": 122,
     "metadata": {},
     "output_type": "execute_result"
    }
   ],
   "source": [
    "# Education_Status에 따른 소득 평균을 살펴보면 Children의 전체 소득은 0이다.\n",
    "train.groupby('Income_Status')[['Income']].median().sort_values(by='Income', ascending=False).T"
   ]
  },
  {
   "cell_type": "code",
   "execution_count": 123,
   "metadata": {},
   "outputs": [
    {
     "data": {
      "image/png": "[encoded data removed]",
      "text/plain": [
       "<Figure size 1200x400 with 2 Axes>"
      ]
     },
     "metadata": {},
     "output_type": "display_data"
    }
   ],
   "source": [
    "# Income_Status별 분포 시각화\n",
    "plt.figure(figsize=(12, 4))\n",
    "\n",
    "plt.subplot(1, 2, 1)\n",
    "sns.histplot(train['Income_Status'])\n",
    "plt.title('Income_Status Histogram')\n",
    "\n",
    "plt.subplot(1, 2, 2)\n",
    "sns.boxplot(y='Income', x='Income_Status', data=train)\n",
    "plt.title('Income Boxplot')\n",
    "\n",
    "plt.show()"
   ]
  },
  {
   "cell_type": "code",
   "execution_count": null,
   "metadata": {},
   "outputs": [],
   "source": []
  },
  {
   "cell_type": "code",
   "execution_count": null,
   "metadata": {},
   "outputs": [],
   "source": []
  },
  {
   "cell_type": "markdown",
   "metadata": {},
   "source": [
    "### Isolation Forest를 통한 이상치 탐지"
   ]
  },
  {
   "cell_type": "code",
   "execution_count": 58,
   "metadata": {},
   "outputs": [],
   "source": [
    "# 수치형 데이터 이상치 탐지\n",
    "numerical = ['Age', 'Gains', 'Losses', 'Dividends', 'Income']"
   ]
  },
  {
   "cell_type": "code",
   "execution_count": 124,
   "metadata": {},
   "outputs": [],
   "source": [
    "# Isolation Forest를 통한 이상치 탐지\n",
    "from sklearn.ensemble import IsolationForest\n",
    "\n",
    "clf = IsolationForest(max_samples=100, contamination=0.01, random_state=42)\n",
    "clf.fit(train[['Income']])\n",
    "\n",
    "y_pred_train = clf.predict(train[['Income']])\n",
    "\n",
    "train['Outlier'] = y_pred_train"
   ]
  },
  {
   "cell_type": "code",
   "execution_count": 130,
   "metadata": {},
   "outputs": [
    {
     "data": {
      "text/plain": [
       "2532"
      ]
     },
     "execution_count": 130,
     "metadata": {},
     "output_type": "execute_result"
    }
   ],
   "source": [
    "train[train['Outlier'] == -1]['Income'].min()"
   ]
  },
  {
   "cell_type": "code",
   "execution_count": 128,
   "metadata": {},
   "outputs": [
    {
     "data": {
      "text/plain": [
       "<Axes: ylabel='Income'>"
      ]
     },
     "execution_count": 128,
     "metadata": {},
     "output_type": "execute_result"
    },
    {
     "data": {
      "image/png": "[encoded data removed]",
      "text/plain": [
       "<Figure size 640x480 with 1 Axes>"
      ]
     },
     "metadata": {},
     "output_type": "display_data"
    }
   ],
   "source": [
    "sns.boxplot(y='Income', data=train )"
   ]
  },
  {
   "cell_type": "code",
   "execution_count": 103,
   "metadata": {},
   "outputs": [
    {
     "name": "stdout",
     "output_type": "stream",
     "text": [
      "Outlier Min:  -1155.25\n",
      "Outlier Max:  2058.75\n"
     ]
    }
   ],
   "source": [
    "# train['Dividends']의 boxplot 이상치 경계 값 확인\n",
    "Q1 = train[train['Dividends']>0]['Dividends'].quantile(0.25)\n",
    "Q3 = train[train['Dividends']>0]['Dividends'].quantile(0.75)\n",
    "IQR = Q3 - Q1\n",
    "outlier_min = Q1 - 1.5 * IQR\n",
    "outlier_max = Q3 + 1.5 * IQR\n",
    "print('Outlier Min: ', outlier_min)\n",
    "print('Outlier Max: ', outlier_max)"
   ]
  },
  {
   "cell_type": "code",
   "execution_count": 98,
   "metadata": {},
   "outputs": [
    {
     "data": {
      "text/plain": [
       "2700"
      ]
     },
     "execution_count": 98,
     "metadata": {},
     "output_type": "execute_result"
    }
   ],
   "source": [
    "train[train['Outlier'] == -1]['Dividends'].min()"
   ]
  },
  {
   "cell_type": "code",
   "execution_count": 78,
   "metadata": {},
   "outputs": [
    {
     "data": {
      "text/plain": [
       "ID                        20\n",
       "Age                       20\n",
       "Gender                    20\n",
       "Education_Status          20\n",
       "Employment_Status         20\n",
       "Working_Week (Yearly)     20\n",
       "Industry_Status           20\n",
       "Occupation_Status         20\n",
       "Race                      20\n",
       "Hispanic_Origin           20\n",
       "Martial_Status            20\n",
       "Household_Status          20\n",
       "Household_Summary         20\n",
       "Citizenship               20\n",
       "Birth_Country             20\n",
       "Birth_Country (Father)    20\n",
       "Birth_Country (Mother)    20\n",
       "Tax_Status                20\n",
       "Gains                     20\n",
       "Losses                    20\n",
       "Dividends                 20\n",
       "Income_Status             20\n",
       "Income                    20\n",
       "Outlier                   20\n",
       "dtype: int64"
      ]
     },
     "execution_count": 78,
     "metadata": {},
     "output_type": "execute_result"
    }
   ],
   "source": [
    "train[train['Dividends'] > 15000].count()"
   ]
  },
  {
   "cell_type": "code",
   "execution_count": 79,
   "metadata": {},
   "outputs": [
    {
     "data": {
      "text/plain": [
       "<Axes: ylabel='Dividends'>"
      ]
     },
     "execution_count": 79,
     "metadata": {},
     "output_type": "execute_result"
    },
    {
     "data": {
      "image/png": "[encoded data removed]",
      "text/plain": [
       "<Figure size 640x480 with 1 Axes>"
      ]
     },
     "metadata": {},
     "output_type": "display_data"
    }
   ],
   "source": [
    "# Dividends 15000이상을 제외한 분포 확인\n",
    "sns.boxplot(y='Dividends', data=train[train['Dividends'] < 15000])"
   ]
  },
  {
   "cell_type": "code",
   "execution_count": 88,
   "metadata": {},
   "outputs": [
    {
     "data": {
      "text/plain": [
       "<Axes: ylabel='Dividends'>"
      ]
     },
     "execution_count": 88,
     "metadata": {},
     "output_type": "execute_result"
    },
    {
     "data": {
      "image/png": "[encoded data removed]",
      "text/plain": [
       "<Figure size 640x480 with 1 Axes>"
      ]
     },
     "metadata": {},
     "output_type": "display_data"
    }
   ],
   "source": [
    "# Dividends 0이상을 제외한 분포 확인\n",
    "sns.boxplot(y='Dividends', data = train[(0 < train['Dividends'])&(train['Dividends'] < 15000)])"
   ]
  }
 ],
 "metadata": {
  "kernelspec": {
   "display_name": "py38",
   "language": "python",
   "name": "python3"
  },
  "language_info": {
   "codemirror_mode": {
    "name": "ipython",
    "version": 3
   },
   "file_extension": ".py",
   "mimetype": "text/x-python",
   "name": "python",
   "nbconvert_exporter": "python",
   "pygments_lexer": "ipython3",
   "version": "3.8.18"
  }
 },
 "nbformat": 4,
 "nbformat_minor": 2
}
